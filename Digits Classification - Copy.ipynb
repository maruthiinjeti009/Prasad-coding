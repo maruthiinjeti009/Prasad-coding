{
 "cells": [
  {
   "cell_type": "code",
   "execution_count": 1,
   "metadata": {
    "collapsed": false
   },
   "outputs": [
    {
     "name": "stdout",
     "output_type": "stream",
     "text": [
      "training images: 1527, test images: 269\n"
     ]
    }
   ],
   "source": [
    "# import data and knn from http://scikit-learn.org\n",
    "from sklearn import datasets, neighbors\n",
    "# plot graphs in notebook\n",
    "import matplotlib.pyplot as plt \n",
    "\n",
    "# our digits\n",
    "digits = datasets.load_digits()\n",
    "# the image data\n",
    "X_digits = digits.data\n",
    "# the image labels\n",
    "y_digits = digits.target\n",
    "# number of samples\n",
    "n_samples = len(X_digits)\n",
    "\n",
    "# use a fraction for training and the rest for testing\n",
    "fraction = 0.85\n",
    "# X,y input where X is the data and y are the labels\n",
    "X_train = X_digits[:int(fraction * n_samples)]\n",
    "y_train = y_digits[:int(fraction * n_samples)]\n",
    "X_test = X_digits[int(fraction * n_samples):]\n",
    "y_test = y_digits[int(fraction * n_samples):]\n",
    "print (\"training images: %s, test images: %s\" % (int(n_samples*fraction), int(n_samples-(n_samples*fraction))))"
   ]
  },
  {
   "cell_type": "code",
   "execution_count": 31,
   "metadata": {
    "collapsed": false
   },
   "outputs": [
    {
     "data": {
      "text/plain": [
       "array([  0.,   1.,  13.,  16.,  15.,   5.,   0.,   0.,   0.,   4.,  16.,\n",
       "         7.,  14.,  12.,   0.,   0.,   0.,   3.,  12.,   2.,  11.,  10.,\n",
       "         0.,   0.,   0.,   0.,   0.,   0.,  14.,   8.,   0.,   0.,   0.,\n",
       "         0.,   0.,   3.,  16.,   4.,   0.,   0.,   0.,   0.,   1.,  11.,\n",
       "        13.,   0.,   0.,   0.,   0.,   0.,   9.,  16.,  14.,  16.,   7.,\n",
       "         0.,   0.,   1.,  16.,  16.,  15.,  12.,   5.,   0.])"
      ]
     },
     "execution_count": 31,
     "metadata": {},
     "output_type": "execute_result"
    }
   ],
   "source": [
    "# show an image matrix (1-dimension)\n",
    "X_test[3]\n",
    "# show an image matrix (8x8 pixels)\n",
    "#print(X_test[3].reshape(-1, 8))"
   ]
  },
  {
   "cell_type": "code",
   "execution_count": 15,
   "metadata": {
    "collapsed": false
   },
   "outputs": [
    {
     "data": {
      "text/plain": [
       "<matplotlib.figure.Figure at 0x7f2311b38978>"
      ]
     },
     "metadata": {},
     "output_type": "display_data"
    },
    {
     "data": {
      "image/png": "[encoded data removed]",
      "text/plain": [
       "<matplotlib.figure.Figure at 0x7f2311b38d68>"
      ]
     },
     "metadata": {},
     "output_type": "display_data"
    }
   ],
   "source": [
    "plt.gray() \n",
    "# show the 8x8 pixel image\n",
    "plt.matshow(X_test[3].reshape(-1, 8))\n",
    "plt.show()"
   ]
  },
  {
   "cell_type": "code",
   "execution_count": 4,
   "metadata": {
    "collapsed": false
   },
   "outputs": [
    {
     "name": "stdout",
     "output_type": "stream",
     "text": [
      "KNN score: 0.951852\n"
     ]
    }
   ],
   "source": [
    "# build our model using kNN, display accuracy score\n",
    "knn = neighbors.KNeighborsClassifier()\n",
    "print('KNN score: %f' % knn.fit(X_train, y_train).score(X_test, y_test))"
   ]
  },
  {
   "cell_type": "code",
   "execution_count": 17,
   "metadata": {
    "collapsed": false
   },
   "outputs": [
    {
     "data": {
      "text/plain": [
       "array([2])"
      ]
     },
     "execution_count": 17,
     "metadata": {},
     "output_type": "execute_result"
    }
   ],
   "source": [
    "# predict an image from the test data, reshape to fit predict input\n",
    "knn.predict(X_test[3].reshape(1,-1))"
   ]
  },
  {
   "cell_type": "code",
   "execution_count": 20,
   "metadata": {
    "collapsed": false
   },
   "outputs": [
    {
     "data": {
      "image/png": "[encoded data removed]",
      "text/plain": [
       "<matplotlib.figure.Figure at 0x7f2311a07e80>"
      ]
     },
     "metadata": {},
     "output_type": "display_data"
    },
    {
     "data": {
      "text/plain": [
       "array([4])"
      ]
     },
     "execution_count": 20,
     "metadata": {},
     "output_type": "execute_result"
    }
   ],
   "source": [
    "# predict another image from test data\n",
    "plt.matshow(X_test[111].reshape(-1, 8))\n",
    "plt.show()\n",
    "knn.predict(X_test[111].reshape(1,-1))"
   ]
  },
  {
   "cell_type": "code",
   "execution_count": 21,
   "metadata": {
    "collapsed": false
   },
   "outputs": [
    {
     "data": {
      "image/png": "[encoded data removed]",
      "text/plain": [
       "<matplotlib.figure.Figure at 0x7f231198a128>"
      ]
     },
     "metadata": {},
     "output_type": "display_data"
    },
    {
     "data": {
      "text/plain": [
       "array([7])"
      ]
     },
     "execution_count": 21,
     "metadata": {},
     "output_type": "execute_result"
    }
   ],
   "source": [
    "# predict another image from test data\n",
    "plt.matshow(X_test[77].reshape(-1, 8))\n",
    "plt.show()\n",
    "knn.predict(X_test[77].reshape(1,-1))"
   ]
  },
  {
   "cell_type": "code",
   "execution_count": 56,
   "metadata": {
    "collapsed": false
   },
   "outputs": [],
   "source": [
    "import numpy as np\n",
    "# create an absurd digit\n",
    "absurd =  [  0.,  0.,  0.,  0.,  0.,  0.,  0.,  0.,   \n",
    "             0.,  0.,  0.,  0.,  0.,  0.,  0.,  0.,\n",
    "             0.,  0., 15., 15., 15., 15.,  0.,  0.,  \n",
    "             0.,  0., 15.,  0.,  0., 15.,  0.,  0.,  \n",
    "             0.,  0., 15.,  0.,  0., 15.,  0.,  0.,\n",
    "             0.,  0., 15., 15., 15., 15.,  0.,  0.,  \n",
    "             0.,  0.,  0.,  0.,  0.,  0.,  0.,  0.,   \n",
    "             0.,  0.,  0.,  0.,  0.,  0.,  0.,  0.]\n",
    "absurd = np.asarray(absurd)"
   ]
  },
  {
   "cell_type": "code",
   "execution_count": 57,
   "metadata": {
    "collapsed": false
   },
   "outputs": [
    {
     "data": {
      "image/png": "[encoded data removed]",
      "text/plain": [
       "<matplotlib.figure.Figure at 0x7f23119616d8>"
      ]
     },
     "metadata": {},
     "output_type": "display_data"
    },
    {
     "data": {
      "text/plain": [
       "array([4])"
      ]
     },
     "execution_count": 57,
     "metadata": {},
     "output_type": "execute_result"
    }
   ],
   "source": [
    "# predict absurdity!\n",
    "plt.matshow(absurd.reshape(-1, 8))\n",
    "plt.show()\n",
    "knn.predict(absurd.reshape(1,-1))"
   ]
  }
 ],
 "metadata": {
  "kernelspec": {
   "display_name": "Python 3",
   "language": "python",
   "name": "python3"
  },
  "language_info": {
   "codemirror_mode": {
    "name": "ipython",
    "version": 3
   },
   "file_extension": ".py",
   "mimetype": "text/x-python",
   "name": "python",
   "nbconvert_exporter": "python",
   "pygments_lexer": "ipython3",
   "version": "3.5.2"
  }
 },
 "nbformat": 4,
 "nbformat_minor": 1
}
